{
 "cells": [
  {
   "cell_type": "code",
   "execution_count": 1,
   "metadata": {},
   "outputs": [],
   "source": [
    "import js2py"
   ]
  },
  {
   "cell_type": "code",
   "execution_count": 2,
   "metadata": {},
   "outputs": [
    {
     "data": {
      "text/plain": [
       "'/home/wyn/dev/reason/muuto/re-tree/__hypothesis__'"
      ]
     },
     "execution_count": 2,
     "metadata": {},
     "output_type": "execute_result"
    }
   ],
   "source": [
    "pwd"
   ]
  },
  {
   "cell_type": "code",
   "execution_count": 3,
   "metadata": {},
   "outputs": [
    {
     "name": "stdout",
     "output_type": "stream",
     "text": [
      "/home/wyn/dev/reason/muuto/re-tree/src\n"
     ]
    }
   ],
   "source": [
    "cd ../src/"
   ]
  },
  {
   "cell_type": "code",
   "execution_count": 4,
   "metadata": {},
   "outputs": [
    {
     "name": "stdout",
     "output_type": "stream",
     "text": [
      "Graph.bs.js  \u001b[0m\u001b[01;34mgraphs\u001b[0m/         Identity.re   IDTree.re   Path.re  \u001b[01;34mtrees\u001b[0m/\r\n",
      "Graph.re     Identity.bs.js  IDTree.bs.js  Path.bs.js  \u001b[01;34mpaths\u001b[0m/\r\n"
     ]
    }
   ],
   "source": [
    "ls"
   ]
  },
  {
   "cell_type": "code",
   "execution_count": 5,
   "metadata": {},
   "outputs": [
    {
     "ename": "AssertionError",
     "evalue": "Could not install the required module: Path.bs",
     "output_type": "error",
     "traceback": [
      "\u001b[0;31m---------------------------------------------------------------------------\u001b[0m",
      "\u001b[0;31mAssertionError\u001b[0m                            Traceback (most recent call last)",
      "\u001b[0;32m<ipython-input-5-7fe1190c5d05>\u001b[0m in \u001b[0;36m<module>\u001b[0;34m\u001b[0m\n\u001b[0;32m----> 1\u001b[0;31m \u001b[0mpaths\u001b[0m \u001b[0;34m=\u001b[0m \u001b[0mjs2py\u001b[0m\u001b[0;34m.\u001b[0m\u001b[0mrequire\u001b[0m\u001b[0;34m(\u001b[0m\u001b[0;34m'Path.bs'\u001b[0m\u001b[0;34m)\u001b[0m\u001b[0;34m\u001b[0m\u001b[0;34m\u001b[0m\u001b[0m\n\u001b[0m",
      "\u001b[0;32m~/.virtualenvs/re-tree/lib/python3.8/site-packages/js2py/node_import.py\u001b[0m in \u001b[0;36mrequire\u001b[0;34m(module_name, include_polyfill, update, context)\u001b[0m\n\u001b[1;32m    148\u001b[0m     \u001b[0mmodule_name\u001b[0m\u001b[0;34m,\u001b[0m \u001b[0mmaybe_version\u001b[0m \u001b[0;34m=\u001b[0m \u001b[0;34m(\u001b[0m\u001b[0mmodule_name\u001b[0m\u001b[0;34m+\u001b[0m\u001b[0;34m\"@@@\"\u001b[0m\u001b[0;34m)\u001b[0m\u001b[0;34m.\u001b[0m\u001b[0msplit\u001b[0m\u001b[0;34m(\u001b[0m\u001b[0;34m'@'\u001b[0m\u001b[0;34m)\u001b[0m\u001b[0;34m[\u001b[0m\u001b[0;34m:\u001b[0m\u001b[0;36m2\u001b[0m\u001b[0;34m]\u001b[0m\u001b[0;34m\u001b[0m\u001b[0;34m\u001b[0m\u001b[0m\n\u001b[1;32m    149\u001b[0m \u001b[0;34m\u001b[0m\u001b[0m\n\u001b[0;32m--> 150\u001b[0;31m     py_code = _get_and_translate_npm_module(module_name, include_polyfill=include_polyfill, update=update,\n\u001b[0m\u001b[1;32m    151\u001b[0m                                             maybe_version_str=maybe_version)\n\u001b[1;32m    152\u001b[0m     \u001b[0;31m# this is a bit hacky but we need to strip the default header from the generated code...\u001b[0m\u001b[0;34m\u001b[0m\u001b[0;34m\u001b[0m\u001b[0;34m\u001b[0m\u001b[0m\n",
      "\u001b[0;32m~/.virtualenvs/re-tree/lib/python3.8/site-packages/js2py/node_import.py\u001b[0m in \u001b[0;36m_get_and_translate_npm_module\u001b[0;34m(module_name, include_polyfill, update, maybe_version_str)\u001b[0m\n\u001b[1;32m     89\u001b[0m             \u001b[0mpkg_name\u001b[0m \u001b[0;34m+=\u001b[0m \u001b[0;34m'@'\u001b[0m \u001b[0;34m+\u001b[0m \u001b[0mmaybe_version_str\u001b[0m\u001b[0;34m\u001b[0m\u001b[0;34m\u001b[0m\u001b[0m\n\u001b[1;32m     90\u001b[0m         \u001b[0;31m# make sure the module is installed\u001b[0m\u001b[0;34m\u001b[0m\u001b[0;34m\u001b[0m\u001b[0;34m\u001b[0m\u001b[0m\n\u001b[0;32m---> 91\u001b[0;31m         assert subprocess.call(\n\u001b[0m\u001b[1;32m     92\u001b[0m             \u001b[0;34m'cd %s;npm install %s'\u001b[0m \u001b[0;34m%\u001b[0m \u001b[0;34m(\u001b[0m\u001b[0mrepr\u001b[0m\u001b[0;34m(\u001b[0m\u001b[0mDIRNAME\u001b[0m\u001b[0;34m)\u001b[0m\u001b[0;34m,\u001b[0m \u001b[0mpkg_name\u001b[0m\u001b[0;34m)\u001b[0m\u001b[0;34m,\u001b[0m\u001b[0;34m\u001b[0m\u001b[0;34m\u001b[0m\u001b[0m\n\u001b[1;32m     93\u001b[0m             \u001b[0mshell\u001b[0m\u001b[0;34m=\u001b[0m\u001b[0;32mTrue\u001b[0m\u001b[0;34m,\u001b[0m\u001b[0;34m\u001b[0m\u001b[0;34m\u001b[0m\u001b[0m\n",
      "\u001b[0;31mAssertionError\u001b[0m: Could not install the required module: Path.bs"
     ]
    }
   ],
   "source": [
    "paths = js2py.require('Path.bs')"
   ]
  },
  {
   "cell_type": "code",
   "execution_count": 20,
   "metadata": {},
   "outputs": [],
   "source": [
    "with open(\"./Path.bs.js\") as f:\n",
    "    js = f.read()"
   ]
  },
  {
   "cell_type": "code",
   "execution_count": 21,
   "metadata": {},
   "outputs": [
    {
     "name": "stdout",
     "output_type": "stream",
     "text": [
      "// Generated by BUCKLESCRIPT, PLEASE EDIT WITH CARE\n",
      "\n",
      "import * as Path_immutable$KaroshibeeReTree from \"./paths/Path_immutable.bs.js\";\n",
      "\n",
      "var T = {\n",
      "  empty: Path_immutable$KaroshibeeReTree.empty,\n",
      "  size: Path_immutable$KaroshibeeReTree.size,\n",
      "  fromList: Path_immutable$KaroshibeeReTree.fromList,\n",
      "  fromPathToRootList: Path_immutable$KaroshibeeReTree.fromPathToRootList,\n",
      "  fromRootToPathList: Path_immutable$KaroshibeeReTree.fromRootToPathList,\n",
      "  moveUp: Path_immutable$KaroshibeeReTree.moveUp,\n",
      "  moveDown: Path_immutable$KaroshibeeReTree.moveDown,\n",
      "  parent: Path_immutable$KaroshibeeReTree.parent,\n",
      "  root: Path_immutable$KaroshibeeReTree.root,\n",
      "  pathToRoot: Path_immutable$KaroshibeeReTree.pathToRoot,\n",
      "  pathFromRoot: Path_immutable$KaroshibeeReTree.pathFromRoot,\n",
      "  eq: Path_immutable$KaroshibeeReTree.eq,\n",
      "  append: Path_immutable$KaroshibeeReTree.append,\n",
      "  toString: Path_immutable$KaroshibeeReTree.toString,\n",
      "  removeElement: Path_immutable$KaroshibeeReTree.removeElement,\n",
      "  concat: Path_immutable$KaroshibeeReTree.concat\n",
      "};\n",
      "\n",
      "var PID = /* alias */0;\n",
      "\n",
      "// export {\n",
      "//   PID ,\n",
      "//   T ,\n",
      "  \n",
      "// }\n",
      "/* Path_immutable-KaroshibeeReTree Not a pure module */\n",
      "\n"
     ]
    }
   ],
   "source": [
    "print(js)"
   ]
  },
  {
   "cell_type": "code",
   "execution_count": 22,
   "metadata": {},
   "outputs": [],
   "source": [
    "paths = js2py.translate_js6(js)"
   ]
  },
  {
   "cell_type": "code",
   "execution_count": 23,
   "metadata": {},
   "outputs": [
    {
     "name": "stdout",
     "output_type": "stream",
     "text": [
      "from js2py.pyjs import *\n",
      "# setting scope\n",
      "var = Scope( JS_BUILTINS )\n",
      "set_global_object(var)\n",
      "\n",
      "# Code follows:\n",
      "var.registers(['Path_immutable$KaroshibeeReTree', '_interopRequireWildcard', '_Path_immutableBs', 'T', 'PID'])\n",
      "@Js\n",
      "def PyJsHoisted__interopRequireWildcard_(obj, this, arguments, var=var):\n",
      "    var = Scope({'obj':obj, 'this':this, 'arguments':arguments}, var)\n",
      "    var.registers(['newObj', 'key', 'obj'])\n",
      "    if (var.get('obj') and var.get('obj').get('__esModule')):\n",
      "        return var.get('obj')\n",
      "    else:\n",
      "        var.put('newObj', Js({}))\n",
      "        if (var.get('obj')!=var.get(u\"null\")):\n",
      "            for PyJsTemp in var.get('obj'):\n",
      "                var.put('key', PyJsTemp)\n",
      "                if var.get('Object').get('prototype').get('hasOwnProperty').callprop('call', var.get('obj'), var.get('key')):\n",
      "                    var.get('newObj').put(var.get('key'), var.get('obj').get(var.get('key')))\n",
      "        var.get('newObj').put('default', var.get('obj'))\n",
      "        return var.get('newObj')\n",
      "PyJsHoisted__interopRequireWildcard_.func_name = '_interopRequireWildcard'\n",
      "var.put('_interopRequireWildcard', PyJsHoisted__interopRequireWildcard_)\n",
      "Js('use strict')\n",
      "var.put('_Path_immutableBs', var.get('require')(Js('./paths/Path_immutable.bs.js')))\n",
      "var.put('Path_immutable$KaroshibeeReTree', var.get('_interopRequireWildcard')(var.get('_Path_immutableBs')))\n",
      "pass\n",
      "var.put('T', Js({'empty':var.get('Path_immutable$KaroshibeeReTree').get('empty'),'size':var.get('Path_immutable$KaroshibeeReTree').get('size'),'fromList':var.get('Path_immutable$KaroshibeeReTree').get('fromList'),'fromPathToRootList':var.get('Path_immutable$KaroshibeeReTree').get('fromPathToRootList'),'fromRootToPathList':var.get('Path_immutable$KaroshibeeReTree').get('fromRootToPathList'),'moveUp':var.get('Path_immutable$KaroshibeeReTree').get('moveUp'),'moveDown':var.get('Path_immutable$KaroshibeeReTree').get('moveDown'),'parent':var.get('Path_immutable$KaroshibeeReTree').get('parent'),'root':var.get('Path_immutable$KaroshibeeReTree').get('root'),'pathToRoot':var.get('Path_immutable$KaroshibeeReTree').get('pathToRoot'),'pathFromRoot':var.get('Path_immutable$KaroshibeeReTree').get('pathFromRoot'),'eq':var.get('Path_immutable$KaroshibeeReTree').get('eq'),'append':var.get('Path_immutable$KaroshibeeReTree').get('append'),'toString':var.get('Path_immutable$KaroshibeeReTree').get('toString'),'removeElement':var.get('Path_immutable$KaroshibeeReTree').get('removeElement'),'concat':var.get('Path_immutable$KaroshibeeReTree').get('concat')}))\n",
      "var.put('PID', Js(0.0))\n",
      "pass\n",
      "\n"
     ]
    }
   ],
   "source": [
    "print(paths)"
   ]
  },
  {
   "cell_type": "code",
   "execution_count": 24,
   "metadata": {},
   "outputs": [
    {
     "ename": "JsException",
     "evalue": "ReferenceError: require is not defined",
     "output_type": "error",
     "traceback": [
      "\u001b[0;31m---------------------------------------------------------------------------\u001b[0m",
      "\u001b[0;31mJsException\u001b[0m                               Traceback (most recent call last)",
      "\u001b[0;32m<ipython-input-24-8048edcb903f>\u001b[0m in \u001b[0;36m<module>\u001b[0;34m\u001b[0m\n\u001b[1;32m     24\u001b[0m \u001b[0mvar\u001b[0m\u001b[0;34m.\u001b[0m\u001b[0mput\u001b[0m\u001b[0;34m(\u001b[0m\u001b[0;34m'_interopRequireWildcard'\u001b[0m\u001b[0;34m,\u001b[0m \u001b[0mPyJsHoisted__interopRequireWildcard_\u001b[0m\u001b[0;34m)\u001b[0m\u001b[0;34m\u001b[0m\u001b[0;34m\u001b[0m\u001b[0m\n\u001b[1;32m     25\u001b[0m \u001b[0mJs\u001b[0m\u001b[0;34m(\u001b[0m\u001b[0;34m'use strict'\u001b[0m\u001b[0;34m)\u001b[0m\u001b[0;34m\u001b[0m\u001b[0;34m\u001b[0m\u001b[0m\n\u001b[0;32m---> 26\u001b[0;31m \u001b[0mvar\u001b[0m\u001b[0;34m.\u001b[0m\u001b[0mput\u001b[0m\u001b[0;34m(\u001b[0m\u001b[0;34m'_Path_immutableBs'\u001b[0m\u001b[0;34m,\u001b[0m \u001b[0mvar\u001b[0m\u001b[0;34m.\u001b[0m\u001b[0mget\u001b[0m\u001b[0;34m(\u001b[0m\u001b[0;34m'require'\u001b[0m\u001b[0;34m)\u001b[0m\u001b[0;34m(\u001b[0m\u001b[0mJs\u001b[0m\u001b[0;34m(\u001b[0m\u001b[0;34m'./paths/Path_immutable.bs.js'\u001b[0m\u001b[0;34m)\u001b[0m\u001b[0;34m)\u001b[0m\u001b[0;34m)\u001b[0m\u001b[0;34m\u001b[0m\u001b[0;34m\u001b[0m\u001b[0m\n\u001b[0m\u001b[1;32m     27\u001b[0m \u001b[0mvar\u001b[0m\u001b[0;34m.\u001b[0m\u001b[0mput\u001b[0m\u001b[0;34m(\u001b[0m\u001b[0;34m'Path_immutable$KaroshibeeReTree'\u001b[0m\u001b[0;34m,\u001b[0m \u001b[0mvar\u001b[0m\u001b[0;34m.\u001b[0m\u001b[0mget\u001b[0m\u001b[0;34m(\u001b[0m\u001b[0;34m'_interopRequireWildcard'\u001b[0m\u001b[0;34m)\u001b[0m\u001b[0;34m(\u001b[0m\u001b[0mvar\u001b[0m\u001b[0;34m.\u001b[0m\u001b[0mget\u001b[0m\u001b[0;34m(\u001b[0m\u001b[0;34m'_Path_immutableBs'\u001b[0m\u001b[0;34m)\u001b[0m\u001b[0;34m)\u001b[0m\u001b[0;34m)\u001b[0m\u001b[0;34m\u001b[0m\u001b[0;34m\u001b[0m\u001b[0m\n\u001b[1;32m     28\u001b[0m \u001b[0;32mpass\u001b[0m\u001b[0;34m\u001b[0m\u001b[0;34m\u001b[0m\u001b[0m\n",
      "\u001b[0;32m~/.virtualenvs/re-tree/lib/python3.8/site-packages/js2py/base.py\u001b[0m in \u001b[0;36mget\u001b[0;34m(self, prop, throw)\u001b[0m\n\u001b[1;32m   1155\u001b[0m         \u001b[0;32mif\u001b[0m \u001b[0mprop\u001b[0m \u001b[0;32mnot\u001b[0m \u001b[0;32min\u001b[0m \u001b[0mself\u001b[0m\u001b[0;34m.\u001b[0m\u001b[0mown\u001b[0m\u001b[0;34m:\u001b[0m\u001b[0;34m\u001b[0m\u001b[0;34m\u001b[0m\u001b[0m\n\u001b[1;32m   1156\u001b[0m             \u001b[0;32mif\u001b[0m \u001b[0mthrow\u001b[0m\u001b[0;34m:\u001b[0m\u001b[0;34m\u001b[0m\u001b[0;34m\u001b[0m\u001b[0m\n\u001b[0;32m-> 1157\u001b[0;31m                 \u001b[0;32mraise\u001b[0m \u001b[0mMakeError\u001b[0m\u001b[0;34m(\u001b[0m\u001b[0;34m'ReferenceError'\u001b[0m\u001b[0;34m,\u001b[0m \u001b[0;34m'%s is not defined'\u001b[0m \u001b[0;34m%\u001b[0m \u001b[0mprop\u001b[0m\u001b[0;34m)\u001b[0m\u001b[0;34m\u001b[0m\u001b[0;34m\u001b[0m\u001b[0m\n\u001b[0m\u001b[1;32m   1158\u001b[0m             \u001b[0;32mreturn\u001b[0m \u001b[0mundefined\u001b[0m\u001b[0;34m\u001b[0m\u001b[0;34m\u001b[0m\u001b[0m\n\u001b[1;32m   1159\u001b[0m         \u001b[0;32mreturn\u001b[0m \u001b[0mPyJs\u001b[0m\u001b[0;34m.\u001b[0m\u001b[0mget\u001b[0m\u001b[0;34m(\u001b[0m\u001b[0mself\u001b[0m\u001b[0;34m,\u001b[0m \u001b[0mprop\u001b[0m\u001b[0;34m)\u001b[0m\u001b[0;34m\u001b[0m\u001b[0;34m\u001b[0m\u001b[0m\n",
      "\u001b[0;31mJsException\u001b[0m: ReferenceError: require is not defined"
     ]
    }
   ],
   "source": [
    "from js2py.pyjs import *\n",
    "# setting scope\n",
    "var = Scope( JS_BUILTINS )\n",
    "set_global_object(var)\n",
    "\n",
    "# Code follows:\n",
    "var.registers(['Path_immutable$KaroshibeeReTree', '_interopRequireWildcard', '_Path_immutableBs', 'T', 'PID'])\n",
    "@Js\n",
    "def PyJsHoisted__interopRequireWildcard_(obj, this, arguments, var=var):\n",
    "    var = Scope({'obj':obj, 'this':this, 'arguments':arguments}, var)\n",
    "    var.registers(['newObj', 'key', 'obj'])\n",
    "    if (var.get('obj') and var.get('obj').get('__esModule')):\n",
    "        return var.get('obj')\n",
    "    else:\n",
    "        var.put('newObj', Js({}))\n",
    "        if (var.get('obj')!=var.get(u\"null\")):\n",
    "            for PyJsTemp in var.get('obj'):\n",
    "                var.put('key', PyJsTemp)\n",
    "                if var.get('Object').get('prototype').get('hasOwnProperty').callprop('call', var.get('obj'), var.get('key')):\n",
    "                    var.get('newObj').put(var.get('key'), var.get('obj').get(var.get('key')))\n",
    "        var.get('newObj').put('default', var.get('obj'))\n",
    "        return var.get('newObj')\n",
    "PyJsHoisted__interopRequireWildcard_.func_name = '_interopRequireWildcard'\n",
    "var.put('_interopRequireWildcard', PyJsHoisted__interopRequireWildcard_)\n",
    "Js('use strict')\n",
    "var.put('_Path_immutableBs', var.get('require')(Js('./paths/Path_immutable.bs.js')))\n",
    "var.put('Path_immutable$KaroshibeeReTree', var.get('_interopRequireWildcard')(var.get('_Path_immutableBs')))\n",
    "pass\n",
    "var.put('T', Js({'empty':var.get('Path_immutable$KaroshibeeReTree').get('empty'),'size':var.get('Path_immutable$KaroshibeeReTree').get('size'),'fromList':var.get('Path_immutable$KaroshibeeReTree').get('fromList'),'fromPathToRootList':var.get('Path_immutable$KaroshibeeReTree').get('fromPathToRootList'),'fromRootToPathList':var.get('Path_immutable$KaroshibeeReTree').get('fromRootToPathList'),'moveUp':var.get('Path_immutable$KaroshibeeReTree').get('moveUp'),'moveDown':var.get('Path_immutable$KaroshibeeReTree').get('moveDown'),'parent':var.get('Path_immutable$KaroshibeeReTree').get('parent'),'root':var.get('Path_immutable$KaroshibeeReTree').get('root'),'pathToRoot':var.get('Path_immutable$KaroshibeeReTree').get('pathToRoot'),'pathFromRoot':var.get('Path_immutable$KaroshibeeReTree').get('pathFromRoot'),'eq':var.get('Path_immutable$KaroshibeeReTree').get('eq'),'append':var.get('Path_immutable$KaroshibeeReTree').get('append'),'toString':var.get('Path_immutable$KaroshibeeReTree').get('toString'),'removeElement':var.get('Path_immutable$KaroshibeeReTree').get('removeElement'),'concat':var.get('Path_immutable$KaroshibeeReTree').get('concat')}))\n",
    "var.put('PID', Js(0.0))\n",
    "pass\n"
   ]
  },
  {
   "cell_type": "code",
   "execution_count": 27,
   "metadata": {},
   "outputs": [],
   "source": [
    "js2py.require??"
   ]
  },
  {
   "cell_type": "code",
   "execution_count": 26,
   "metadata": {},
   "outputs": [
    {
     "ename": "JsException",
     "evalue": "ReferenceError: require is not defined",
     "output_type": "error",
     "traceback": [
      "\u001b[0;31m---------------------------------------------------------------------------\u001b[0m",
      "\u001b[0;31mJsException\u001b[0m                               Traceback (most recent call last)",
      "\u001b[0;32m<ipython-input-26-c57fdae67e8c>\u001b[0m in \u001b[0;36m<module>\u001b[0;34m\u001b[0m\n\u001b[0;32m----> 1\u001b[0;31m \u001b[0mjs2py\u001b[0m\u001b[0;34m.\u001b[0m\u001b[0meval_js6\u001b[0m\u001b[0;34m(\u001b[0m\u001b[0;34m\"import T from './Path.bs.js'\"\u001b[0m\u001b[0;34m)\u001b[0m\u001b[0;34m\u001b[0m\u001b[0;34m\u001b[0m\u001b[0m\n\u001b[0m",
      "\u001b[0;32m~/.virtualenvs/re-tree/lib/python3.8/site-packages/js2py/evaljs.py\u001b[0m in \u001b[0;36meval_js6\u001b[0;34m(js)\u001b[0m\n\u001b[1;32m    118\u001b[0m \u001b[0;32mdef\u001b[0m \u001b[0meval_js6\u001b[0m\u001b[0;34m(\u001b[0m\u001b[0mjs\u001b[0m\u001b[0;34m)\u001b[0m\u001b[0;34m:\u001b[0m\u001b[0;34m\u001b[0m\u001b[0;34m\u001b[0m\u001b[0m\n\u001b[1;32m    119\u001b[0m     \u001b[0;34m\"\"\"Just like eval_js but with experimental support for js6 via babel.\"\"\"\u001b[0m\u001b[0;34m\u001b[0m\u001b[0;34m\u001b[0m\u001b[0m\n\u001b[0;32m--> 120\u001b[0;31m     \u001b[0;32mreturn\u001b[0m \u001b[0meval_js\u001b[0m\u001b[0;34m(\u001b[0m\u001b[0mjs6_to_js5\u001b[0m\u001b[0;34m(\u001b[0m\u001b[0mjs\u001b[0m\u001b[0;34m)\u001b[0m\u001b[0;34m)\u001b[0m\u001b[0;34m\u001b[0m\u001b[0;34m\u001b[0m\u001b[0m\n\u001b[0m\u001b[1;32m    121\u001b[0m \u001b[0;34m\u001b[0m\u001b[0m\n\u001b[1;32m    122\u001b[0m \u001b[0;34m\u001b[0m\u001b[0m\n",
      "\u001b[0;32m~/.virtualenvs/re-tree/lib/python3.8/site-packages/js2py/evaljs.py\u001b[0m in \u001b[0;36meval_js\u001b[0;34m(js)\u001b[0m\n\u001b[1;32m    113\u001b[0m        \"\"\"\n\u001b[1;32m    114\u001b[0m     \u001b[0me\u001b[0m \u001b[0;34m=\u001b[0m \u001b[0mEvalJs\u001b[0m\u001b[0;34m(\u001b[0m\u001b[0;34m)\u001b[0m\u001b[0;34m\u001b[0m\u001b[0;34m\u001b[0m\u001b[0m\n\u001b[0;32m--> 115\u001b[0;31m     \u001b[0;32mreturn\u001b[0m \u001b[0me\u001b[0m\u001b[0;34m.\u001b[0m\u001b[0meval\u001b[0m\u001b[0;34m(\u001b[0m\u001b[0mjs\u001b[0m\u001b[0;34m)\u001b[0m\u001b[0;34m\u001b[0m\u001b[0;34m\u001b[0m\u001b[0m\n\u001b[0m\u001b[1;32m    116\u001b[0m \u001b[0;34m\u001b[0m\u001b[0m\n\u001b[1;32m    117\u001b[0m \u001b[0;34m\u001b[0m\u001b[0m\n",
      "\u001b[0;32m~/.virtualenvs/re-tree/lib/python3.8/site-packages/js2py/evaljs.py\u001b[0m in \u001b[0;36meval\u001b[0;34m(self, expression, use_compilation_plan)\u001b[0m\n\u001b[1;32m    202\u001b[0m         \u001b[0;34m\"\"\"evaluates expression in current context and returns its value\"\"\"\u001b[0m\u001b[0;34m\u001b[0m\u001b[0;34m\u001b[0m\u001b[0m\n\u001b[1;32m    203\u001b[0m         \u001b[0mcode\u001b[0m \u001b[0;34m=\u001b[0m \u001b[0;34m'PyJsEvalResult = eval(%s)'\u001b[0m \u001b[0;34m%\u001b[0m \u001b[0mjson\u001b[0m\u001b[0;34m.\u001b[0m\u001b[0mdumps\u001b[0m\u001b[0;34m(\u001b[0m\u001b[0mexpression\u001b[0m\u001b[0;34m)\u001b[0m\u001b[0;34m\u001b[0m\u001b[0;34m\u001b[0m\u001b[0m\n\u001b[0;32m--> 204\u001b[0;31m         \u001b[0mself\u001b[0m\u001b[0;34m.\u001b[0m\u001b[0mexecute\u001b[0m\u001b[0;34m(\u001b[0m\u001b[0mcode\u001b[0m\u001b[0;34m,\u001b[0m \u001b[0muse_compilation_plan\u001b[0m\u001b[0;34m=\u001b[0m\u001b[0muse_compilation_plan\u001b[0m\u001b[0;34m)\u001b[0m\u001b[0;34m\u001b[0m\u001b[0;34m\u001b[0m\u001b[0m\n\u001b[0m\u001b[1;32m    205\u001b[0m         \u001b[0;32mreturn\u001b[0m \u001b[0mself\u001b[0m\u001b[0;34m[\u001b[0m\u001b[0;34m'PyJsEvalResult'\u001b[0m\u001b[0;34m]\u001b[0m\u001b[0;34m\u001b[0m\u001b[0;34m\u001b[0m\u001b[0m\n\u001b[1;32m    206\u001b[0m \u001b[0;34m\u001b[0m\u001b[0m\n",
      "\u001b[0;32m~/.virtualenvs/re-tree/lib/python3.8/site-packages/js2py/evaljs.py\u001b[0m in \u001b[0;36mexecute\u001b[0;34m(self, js, use_compilation_plan)\u001b[0m\n\u001b[1;32m    197\u001b[0m             compiled = cache[hashkey] = compile(code, '<EvalJS snippet>',\n\u001b[1;32m    198\u001b[0m                                                 'exec')\n\u001b[0;32m--> 199\u001b[0;31m         \u001b[0mexec\u001b[0m \u001b[0;34m(\u001b[0m\u001b[0mcompiled\u001b[0m\u001b[0;34m,\u001b[0m \u001b[0mself\u001b[0m\u001b[0;34m.\u001b[0m\u001b[0m_context\u001b[0m\u001b[0;34m)\u001b[0m\u001b[0;34m\u001b[0m\u001b[0;34m\u001b[0m\u001b[0m\n\u001b[0m\u001b[1;32m    200\u001b[0m \u001b[0;34m\u001b[0m\u001b[0m\n\u001b[1;32m    201\u001b[0m     \u001b[0;32mdef\u001b[0m \u001b[0meval\u001b[0m\u001b[0;34m(\u001b[0m\u001b[0mself\u001b[0m\u001b[0;34m,\u001b[0m \u001b[0mexpression\u001b[0m\u001b[0;34m,\u001b[0m \u001b[0muse_compilation_plan\u001b[0m\u001b[0;34m=\u001b[0m\u001b[0;32mFalse\u001b[0m\u001b[0;34m)\u001b[0m\u001b[0;34m:\u001b[0m\u001b[0;34m\u001b[0m\u001b[0;34m\u001b[0m\u001b[0m\n",
      "\u001b[0;32m<EvalJS snippet>\u001b[0m in \u001b[0;36m<module>\u001b[0;34m\u001b[0m\n",
      "\u001b[0;32m~/.virtualenvs/re-tree/lib/python3.8/site-packages/js2py/base.py\u001b[0m in \u001b[0;36m__call__\u001b[0;34m(self, *args)\u001b[0m\n\u001b[1;32m    947\u001b[0m             raise MakeError('TypeError',\n\u001b[1;32m    948\u001b[0m                             '%s is not a function' % self.typeof())\n\u001b[0;32m--> 949\u001b[0;31m         \u001b[0;32mreturn\u001b[0m \u001b[0mself\u001b[0m\u001b[0;34m.\u001b[0m\u001b[0mcall\u001b[0m\u001b[0;34m(\u001b[0m\u001b[0mself\u001b[0m\u001b[0;34m.\u001b[0m\u001b[0mGlobalObject\u001b[0m\u001b[0;34m,\u001b[0m \u001b[0margs\u001b[0m\u001b[0;34m)\u001b[0m\u001b[0;34m\u001b[0m\u001b[0;34m\u001b[0m\u001b[0m\n\u001b[0m\u001b[1;32m    950\u001b[0m \u001b[0;34m\u001b[0m\u001b[0m\n\u001b[1;32m    951\u001b[0m     \u001b[0;32mdef\u001b[0m \u001b[0mcreate\u001b[0m\u001b[0;34m(\u001b[0m\u001b[0mself\u001b[0m\u001b[0;34m,\u001b[0m \u001b[0;34m*\u001b[0m\u001b[0margs\u001b[0m\u001b[0;34m)\u001b[0m\u001b[0;34m:\u001b[0m\u001b[0;34m\u001b[0m\u001b[0;34m\u001b[0m\u001b[0m\n",
      "\u001b[0;32m~/.virtualenvs/re-tree/lib/python3.8/site-packages/js2py/base.py\u001b[0m in \u001b[0;36mcall\u001b[0;34m(self, this, args)\u001b[0m\n\u001b[1;32m   1461\u001b[0m         \u001b[0margs\u001b[0m \u001b[0;34m+=\u001b[0m \u001b[0mthis\u001b[0m\u001b[0;34m,\u001b[0m \u001b[0marguments\u001b[0m  \u001b[0;31m#append extra params to the arg list\u001b[0m\u001b[0;34m\u001b[0m\u001b[0;34m\u001b[0m\u001b[0m\n\u001b[1;32m   1462\u001b[0m         \u001b[0;32mtry\u001b[0m\u001b[0;34m:\u001b[0m\u001b[0;34m\u001b[0m\u001b[0;34m\u001b[0m\u001b[0m\n\u001b[0;32m-> 1463\u001b[0;31m             \u001b[0;32mreturn\u001b[0m \u001b[0mJs\u001b[0m\u001b[0;34m(\u001b[0m\u001b[0mself\u001b[0m\u001b[0;34m.\u001b[0m\u001b[0mcode\u001b[0m\u001b[0;34m(\u001b[0m\u001b[0;34m*\u001b[0m\u001b[0margs\u001b[0m\u001b[0;34m)\u001b[0m\u001b[0;34m)\u001b[0m\u001b[0;34m\u001b[0m\u001b[0;34m\u001b[0m\u001b[0m\n\u001b[0m\u001b[1;32m   1464\u001b[0m         \u001b[0;32mexcept\u001b[0m \u001b[0mNotImplementedError\u001b[0m\u001b[0;34m:\u001b[0m\u001b[0;34m\u001b[0m\u001b[0;34m\u001b[0m\u001b[0m\n\u001b[1;32m   1465\u001b[0m             \u001b[0;32mraise\u001b[0m\u001b[0;34m\u001b[0m\u001b[0;34m\u001b[0m\u001b[0m\n",
      "\u001b[0;32m~/.virtualenvs/re-tree/lib/python3.8/site-packages/js2py/host/jseval.py\u001b[0m in \u001b[0;36mEval\u001b[0;34m(code, this, arguments)\u001b[0m\n\u001b[1;32m     43\u001b[0m                 \u001b[0;32mbreak\u001b[0m\u001b[0;34m\u001b[0m\u001b[0;34m\u001b[0m\u001b[0m\n\u001b[1;32m     44\u001b[0m     \u001b[0;31m#print py_code\u001b[0m\u001b[0;34m\u001b[0m\u001b[0;34m\u001b[0m\u001b[0;34m\u001b[0m\u001b[0m\n\u001b[0;32m---> 45\u001b[0;31m     \u001b[0mexecutor\u001b[0m\u001b[0;34m(\u001b[0m\u001b[0mpy_code\u001b[0m\u001b[0;34m)\u001b[0m\u001b[0;34m\u001b[0m\u001b[0;34m\u001b[0m\u001b[0m\n\u001b[0m\u001b[1;32m     46\u001b[0m     \u001b[0;32mif\u001b[0m \u001b[0mhas_return\u001b[0m\u001b[0;34m:\u001b[0m\u001b[0;34m\u001b[0m\u001b[0;34m\u001b[0m\u001b[0m\n\u001b[1;32m     47\u001b[0m         \u001b[0;32mreturn\u001b[0m \u001b[0mglobals\u001b[0m\u001b[0;34m(\u001b[0m\u001b[0;34m)\u001b[0m\u001b[0;34m[\u001b[0m\u001b[0;34m'EVAL_RESULT'\u001b[0m\u001b[0;34m]\u001b[0m\u001b[0;34m\u001b[0m\u001b[0;34m\u001b[0m\u001b[0m\n",
      "\u001b[0;32m~/.virtualenvs/re-tree/lib/python3.8/site-packages/js2py/host/jseval.py\u001b[0m in \u001b[0;36mexecutor\u001b[0;34m(code)\u001b[0m\n\u001b[1;32m     49\u001b[0m \u001b[0;34m\u001b[0m\u001b[0m\n\u001b[1;32m     50\u001b[0m \u001b[0;32mdef\u001b[0m \u001b[0mexecutor\u001b[0m\u001b[0;34m(\u001b[0m\u001b[0mcode\u001b[0m\u001b[0;34m)\u001b[0m\u001b[0;34m:\u001b[0m\u001b[0;34m\u001b[0m\u001b[0;34m\u001b[0m\u001b[0m\n\u001b[0;32m---> 51\u001b[0;31m     \u001b[0mexec\u001b[0m \u001b[0;34m(\u001b[0m\u001b[0mcode\u001b[0m\u001b[0;34m,\u001b[0m \u001b[0mglobals\u001b[0m\u001b[0;34m(\u001b[0m\u001b[0;34m)\u001b[0m\u001b[0;34m)\u001b[0m\u001b[0;34m\u001b[0m\u001b[0;34m\u001b[0m\u001b[0m\n\u001b[0m",
      "\u001b[0;32m~/.virtualenvs/re-tree/lib/python3.8/site-packages/js2py/host/jseval.py\u001b[0m in \u001b[0;36m<module>\u001b[0;34m\u001b[0m\n",
      "\u001b[0;32m~/.virtualenvs/re-tree/lib/python3.8/site-packages/js2py/base.py\u001b[0m in \u001b[0;36mget\u001b[0;34m(self, prop, throw)\u001b[0m\n\u001b[1;32m   1155\u001b[0m         \u001b[0;32mif\u001b[0m \u001b[0mprop\u001b[0m \u001b[0;32mnot\u001b[0m \u001b[0;32min\u001b[0m \u001b[0mself\u001b[0m\u001b[0;34m.\u001b[0m\u001b[0mown\u001b[0m\u001b[0;34m:\u001b[0m\u001b[0;34m\u001b[0m\u001b[0;34m\u001b[0m\u001b[0m\n\u001b[1;32m   1156\u001b[0m             \u001b[0;32mif\u001b[0m \u001b[0mthrow\u001b[0m\u001b[0;34m:\u001b[0m\u001b[0;34m\u001b[0m\u001b[0;34m\u001b[0m\u001b[0m\n\u001b[0;32m-> 1157\u001b[0;31m                 \u001b[0;32mraise\u001b[0m \u001b[0mMakeError\u001b[0m\u001b[0;34m(\u001b[0m\u001b[0;34m'ReferenceError'\u001b[0m\u001b[0;34m,\u001b[0m \u001b[0;34m'%s is not defined'\u001b[0m \u001b[0;34m%\u001b[0m \u001b[0mprop\u001b[0m\u001b[0;34m)\u001b[0m\u001b[0;34m\u001b[0m\u001b[0;34m\u001b[0m\u001b[0m\n\u001b[0m\u001b[1;32m   1158\u001b[0m             \u001b[0;32mreturn\u001b[0m \u001b[0mundefined\u001b[0m\u001b[0;34m\u001b[0m\u001b[0;34m\u001b[0m\u001b[0m\n\u001b[1;32m   1159\u001b[0m         \u001b[0;32mreturn\u001b[0m \u001b[0mPyJs\u001b[0m\u001b[0;34m.\u001b[0m\u001b[0mget\u001b[0m\u001b[0;34m(\u001b[0m\u001b[0mself\u001b[0m\u001b[0;34m,\u001b[0m \u001b[0mprop\u001b[0m\u001b[0;34m)\u001b[0m\u001b[0;34m\u001b[0m\u001b[0;34m\u001b[0m\u001b[0m\n",
      "\u001b[0;31mJsException\u001b[0m: ReferenceError: require is not defined"
     ]
    }
   ],
   "source": [
    "js2py.eval_js6(\"import T from './Path.bs.js'\")"
   ]
  },
  {
   "cell_type": "code",
   "execution_count": 28,
   "metadata": {},
   "outputs": [
    {
     "name": "stdout",
     "output_type": "stream",
     "text": [
      "/home/wyn/dev/reason/muuto/re-tree-py/dist\n"
     ]
    }
   ],
   "source": [
    "cd ~/dev/reason/muuto/re-tree-py/dist/"
   ]
  },
  {
   "cell_type": "code",
   "execution_count": 29,
   "metadata": {},
   "outputs": [
    {
     "name": "stdout",
     "output_type": "stream",
     "text": [
      "App.bs.js             index.bs.497d4e44.js.map  Path.bs.js.map\r\n",
      "App.bs.js.map         index.html                src.3adae015.css\r\n",
      "index.bs.497d4e44.js  Path.bs.js                src.3adae015.css.map\r\n"
     ]
    }
   ],
   "source": [
    "ls"
   ]
  },
  {
   "cell_type": "code",
   "execution_count": 31,
   "metadata": {},
   "outputs": [
    {
     "ename": "AssertionError",
     "evalue": "Could not install the required module: Path.bs.js",
     "output_type": "error",
     "traceback": [
      "\u001b[0;31m---------------------------------------------------------------------------\u001b[0m",
      "\u001b[0;31mAssertionError\u001b[0m                            Traceback (most recent call last)",
      "\u001b[0;32m<ipython-input-31-a5c2286ba8da>\u001b[0m in \u001b[0;36m<module>\u001b[0;34m\u001b[0m\n\u001b[0;32m----> 1\u001b[0;31m \u001b[0mjs2py\u001b[0m\u001b[0;34m.\u001b[0m\u001b[0mrequire\u001b[0m\u001b[0;34m(\u001b[0m\u001b[0;34m\"Path.bs.js\"\u001b[0m\u001b[0;34m)\u001b[0m\u001b[0;34m\u001b[0m\u001b[0;34m\u001b[0m\u001b[0m\n\u001b[0m",
      "\u001b[0;32m~/.virtualenvs/re-tree/lib/python3.8/site-packages/js2py/node_import.py\u001b[0m in \u001b[0;36mrequire\u001b[0;34m(module_name, include_polyfill, update, context)\u001b[0m\n\u001b[1;32m    148\u001b[0m     \u001b[0mmodule_name\u001b[0m\u001b[0;34m,\u001b[0m \u001b[0mmaybe_version\u001b[0m \u001b[0;34m=\u001b[0m \u001b[0;34m(\u001b[0m\u001b[0mmodule_name\u001b[0m\u001b[0;34m+\u001b[0m\u001b[0;34m\"@@@\"\u001b[0m\u001b[0;34m)\u001b[0m\u001b[0;34m.\u001b[0m\u001b[0msplit\u001b[0m\u001b[0;34m(\u001b[0m\u001b[0;34m'@'\u001b[0m\u001b[0;34m)\u001b[0m\u001b[0;34m[\u001b[0m\u001b[0;34m:\u001b[0m\u001b[0;36m2\u001b[0m\u001b[0;34m]\u001b[0m\u001b[0;34m\u001b[0m\u001b[0;34m\u001b[0m\u001b[0m\n\u001b[1;32m    149\u001b[0m \u001b[0;34m\u001b[0m\u001b[0m\n\u001b[0;32m--> 150\u001b[0;31m     py_code = _get_and_translate_npm_module(module_name, include_polyfill=include_polyfill, update=update,\n\u001b[0m\u001b[1;32m    151\u001b[0m                                             maybe_version_str=maybe_version)\n\u001b[1;32m    152\u001b[0m     \u001b[0;31m# this is a bit hacky but we need to strip the default header from the generated code...\u001b[0m\u001b[0;34m\u001b[0m\u001b[0;34m\u001b[0m\u001b[0;34m\u001b[0m\u001b[0m\n",
      "\u001b[0;32m~/.virtualenvs/re-tree/lib/python3.8/site-packages/js2py/node_import.py\u001b[0m in \u001b[0;36m_get_and_translate_npm_module\u001b[0;34m(module_name, include_polyfill, update, maybe_version_str)\u001b[0m\n\u001b[1;32m     89\u001b[0m             \u001b[0mpkg_name\u001b[0m \u001b[0;34m+=\u001b[0m \u001b[0;34m'@'\u001b[0m \u001b[0;34m+\u001b[0m \u001b[0mmaybe_version_str\u001b[0m\u001b[0;34m\u001b[0m\u001b[0;34m\u001b[0m\u001b[0m\n\u001b[1;32m     90\u001b[0m         \u001b[0;31m# make sure the module is installed\u001b[0m\u001b[0;34m\u001b[0m\u001b[0;34m\u001b[0m\u001b[0;34m\u001b[0m\u001b[0m\n\u001b[0;32m---> 91\u001b[0;31m         assert subprocess.call(\n\u001b[0m\u001b[1;32m     92\u001b[0m             \u001b[0;34m'cd %s;npm install %s'\u001b[0m \u001b[0;34m%\u001b[0m \u001b[0;34m(\u001b[0m\u001b[0mrepr\u001b[0m\u001b[0;34m(\u001b[0m\u001b[0mDIRNAME\u001b[0m\u001b[0;34m)\u001b[0m\u001b[0;34m,\u001b[0m \u001b[0mpkg_name\u001b[0m\u001b[0;34m)\u001b[0m\u001b[0;34m,\u001b[0m\u001b[0;34m\u001b[0m\u001b[0;34m\u001b[0m\u001b[0m\n\u001b[1;32m     93\u001b[0m             \u001b[0mshell\u001b[0m\u001b[0;34m=\u001b[0m\u001b[0;32mTrue\u001b[0m\u001b[0;34m,\u001b[0m\u001b[0;34m\u001b[0m\u001b[0;34m\u001b[0m\u001b[0m\n",
      "\u001b[0;31mAssertionError\u001b[0m: Could not install the required module: Path.bs.js"
     ]
    }
   ],
   "source": [
    "js2py.require(\"Path.bs.js\")"
   ]
  },
  {
   "cell_type": "code",
   "execution_count": 32,
   "metadata": {},
   "outputs": [
    {
     "ename": "ValueError",
     "evalue": "Invalid Python module name '' (generated from ''). Unsupported/invalid npm module specification?",
     "output_type": "error",
     "traceback": [
      "\u001b[0;31m---------------------------------------------------------------------------\u001b[0m",
      "\u001b[0;31mValueError\u001b[0m                                Traceback (most recent call last)",
      "\u001b[0;32m<ipython-input-32-43e3fd5061cd>\u001b[0m in \u001b[0;36m<module>\u001b[0;34m\u001b[0m\n\u001b[0;32m----> 1\u001b[0;31m \u001b[0mretree\u001b[0m \u001b[0;34m=\u001b[0m \u001b[0mjs2py\u001b[0m\u001b[0;34m.\u001b[0m\u001b[0mrequire\u001b[0m\u001b[0;34m(\u001b[0m\u001b[0;34m\"@karoshibee/retree\"\u001b[0m\u001b[0;34m)\u001b[0m\u001b[0;34m\u001b[0m\u001b[0;34m\u001b[0m\u001b[0m\n\u001b[0m",
      "\u001b[0;32m~/.virtualenvs/re-tree/lib/python3.8/site-packages/js2py/node_import.py\u001b[0m in \u001b[0;36mrequire\u001b[0;34m(module_name, include_polyfill, update, context)\u001b[0m\n\u001b[1;32m    148\u001b[0m     \u001b[0mmodule_name\u001b[0m\u001b[0;34m,\u001b[0m \u001b[0mmaybe_version\u001b[0m \u001b[0;34m=\u001b[0m \u001b[0;34m(\u001b[0m\u001b[0mmodule_name\u001b[0m\u001b[0;34m+\u001b[0m\u001b[0;34m\"@@@\"\u001b[0m\u001b[0;34m)\u001b[0m\u001b[0;34m.\u001b[0m\u001b[0msplit\u001b[0m\u001b[0;34m(\u001b[0m\u001b[0;34m'@'\u001b[0m\u001b[0;34m)\u001b[0m\u001b[0;34m[\u001b[0m\u001b[0;34m:\u001b[0m\u001b[0;36m2\u001b[0m\u001b[0;34m]\u001b[0m\u001b[0;34m\u001b[0m\u001b[0;34m\u001b[0m\u001b[0m\n\u001b[1;32m    149\u001b[0m \u001b[0;34m\u001b[0m\u001b[0m\n\u001b[0;32m--> 150\u001b[0;31m     py_code = _get_and_translate_npm_module(module_name, include_polyfill=include_polyfill, update=update,\n\u001b[0m\u001b[1;32m    151\u001b[0m                                             maybe_version_str=maybe_version)\n\u001b[1;32m    152\u001b[0m     \u001b[0;31m# this is a bit hacky but we need to strip the default header from the generated code...\u001b[0m\u001b[0;34m\u001b[0m\u001b[0;34m\u001b[0m\u001b[0;34m\u001b[0m\u001b[0m\n",
      "\u001b[0;32m~/.virtualenvs/re-tree/lib/python3.8/site-packages/js2py/node_import.py\u001b[0m in \u001b[0;36m_get_and_translate_npm_module\u001b[0;34m(module_name, include_polyfill, update, maybe_version_str)\u001b[0m\n\u001b[1;32m     69\u001b[0m     \u001b[0mpy_name\u001b[0m \u001b[0;34m=\u001b[0m \u001b[0m_get_module_py_name\u001b[0m\u001b[0;34m(\u001b[0m\u001b[0mmodule_name\u001b[0m\u001b[0;34m)\u001b[0m\u001b[0;34m\u001b[0m\u001b[0;34m\u001b[0m\u001b[0m\n\u001b[1;32m     70\u001b[0m     \u001b[0mmodule_filename\u001b[0m \u001b[0;34m=\u001b[0m \u001b[0;34m'%s.py'\u001b[0m \u001b[0;34m%\u001b[0m \u001b[0mpy_name\u001b[0m\u001b[0;34m\u001b[0m\u001b[0;34m\u001b[0m\u001b[0m\n\u001b[0;32m---> 71\u001b[0;31m     \u001b[0mvar_name\u001b[0m \u001b[0;34m=\u001b[0m \u001b[0m_get_module_var_name\u001b[0m\u001b[0;34m(\u001b[0m\u001b[0mmodule_name\u001b[0m\u001b[0;34m)\u001b[0m\u001b[0;34m\u001b[0m\u001b[0;34m\u001b[0m\u001b[0m\n\u001b[0m\u001b[1;32m     72\u001b[0m     if not os.path.exists(os.path.join(PY_NODE_MODULES_PATH,\n\u001b[1;32m     73\u001b[0m                                        module_filename)) or update:\n",
      "\u001b[0;32m~/.virtualenvs/re-tree/lib/python3.8/site-packages/js2py/node_import.py\u001b[0m in \u001b[0;36m_get_module_var_name\u001b[0;34m(module_name)\u001b[0m\n\u001b[1;32m     58\u001b[0m     \u001b[0mcand\u001b[0m \u001b[0;34m=\u001b[0m  \u001b[0m_get_module_py_name\u001b[0m\u001b[0;34m(\u001b[0m\u001b[0mmodule_name\u001b[0m\u001b[0;34m)\u001b[0m\u001b[0;34m.\u001b[0m\u001b[0mrpartition\u001b[0m\u001b[0;34m(\u001b[0m\u001b[0;34m'/'\u001b[0m\u001b[0;34m)\u001b[0m\u001b[0;34m[\u001b[0m\u001b[0;34m-\u001b[0m\u001b[0;36m1\u001b[0m\u001b[0;34m]\u001b[0m\u001b[0;34m\u001b[0m\u001b[0;34m\u001b[0m\u001b[0m\n\u001b[1;32m     59\u001b[0m     \u001b[0;32mif\u001b[0m \u001b[0;32mnot\u001b[0m \u001b[0mis_valid_py_name\u001b[0m\u001b[0;34m(\u001b[0m\u001b[0mcand\u001b[0m\u001b[0;34m)\u001b[0m\u001b[0;34m:\u001b[0m\u001b[0;34m\u001b[0m\u001b[0;34m\u001b[0m\u001b[0m\n\u001b[0;32m---> 60\u001b[0;31m         raise ValueError(\n\u001b[0m\u001b[1;32m     61\u001b[0m             \"Invalid Python module name %s (generated from %s). Unsupported/invalid npm module specification?\" % (\n\u001b[1;32m     62\u001b[0m                 repr(cand), repr(module_name)))\n",
      "\u001b[0;31mValueError\u001b[0m: Invalid Python module name '' (generated from ''). Unsupported/invalid npm module specification?"
     ]
    }
   ],
   "source": [
    "retree = js2py.require(\"@karoshibee/retree\")"
   ]
  },
  {
   "cell_type": "code",
   "execution_count": null,
   "metadata": {},
   "outputs": [],
   "source": []
  }
 ],
 "metadata": {
  "kernelspec": {
   "display_name": "Python 3",
   "language": "python",
   "name": "python3"
  },
  "language_info": {
   "codemirror_mode": {
    "name": "ipython",
    "version": 3
   },
   "file_extension": ".py",
   "mimetype": "text/x-python",
   "name": "python",
   "nbconvert_exporter": "python",
   "pygments_lexer": "ipython3",
   "version": "3.8.2"
  }
 },
 "nbformat": 4,
 "nbformat_minor": 4
}
