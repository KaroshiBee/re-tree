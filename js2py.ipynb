{
 "cells": [
  {
   "cell_type": "code",
   "execution_count": 1,
   "metadata": {},
   "outputs": [
    {
     "data": {
      "text/plain": [
       "'/home/wyn/dev/reason/muuto/re-tree'"
      ]
     },
     "execution_count": 1,
     "metadata": {},
     "output_type": "execute_result"
    }
   ],
   "source": [
    "pwd"
   ]
  },
  {
   "cell_type": "code",
   "execution_count": 2,
   "metadata": {},
   "outputs": [],
   "source": [
    "import sys"
   ]
  },
  {
   "cell_type": "code",
   "execution_count": 3,
   "metadata": {},
   "outputs": [],
   "source": [
    "##sys.setrecursionlimit(100000)"
   ]
  },
  {
   "cell_type": "code",
   "execution_count": 4,
   "metadata": {},
   "outputs": [
    {
     "data": {
      "text/plain": [
       "3000"
      ]
     },
     "execution_count": 4,
     "metadata": {},
     "output_type": "execute_result"
    }
   ],
   "source": [
    "sys.getrecursionlimit()"
   ]
  },
  {
   "cell_type": "code",
   "execution_count": 6,
   "metadata": {},
   "outputs": [],
   "source": [
    "import js2py"
   ]
  },
  {
   "cell_type": "code",
   "execution_count": 7,
   "metadata": {},
   "outputs": [
    {
     "data": {
      "text/plain": [
       "'/home/wyn/dev/reason/muuto/re-tree'"
      ]
     },
     "execution_count": 7,
     "metadata": {},
     "output_type": "execute_result"
    }
   ],
   "source": [
    "pwd"
   ]
  },
  {
   "cell_type": "code",
   "execution_count": 8,
   "metadata": {},
   "outputs": [
    {
     "name": "stdout",
     "output_type": "stream",
     "text": [
      "bsconfig.json    js2py.ipynb      num.bundle.js  retreeB\r\n",
      "\u001b[0m\u001b[01;34mcoverage\u001b[0m/        \u001b[01;34mlib\u001b[0m/             package.json   \u001b[01;34msrc\u001b[0m/\r\n",
      "\u001b[01;34m_esy\u001b[0m/            miniracer.ipynb  README.md      \u001b[01;34m__tests__\u001b[0m/\r\n",
      "\u001b[01;34m__hypothesis__\u001b[0m/  \u001b[01;34mnode_modules\u001b[0m/    retreeA        yarn.lock\r\n"
     ]
    }
   ],
   "source": [
    "ls"
   ]
  },
  {
   "cell_type": "code",
   "execution_count": 9,
   "metadata": {},
   "outputs": [],
   "source": [
    "with open(\"./num.bundle.js\") as f:\n",
    "    js = f.read()"
   ]
  },
  {
   "cell_type": "code",
   "execution_count": 10,
   "metadata": {
    "scrolled": true
   },
   "outputs": [
    {
     "name": "stdout",
     "output_type": "stream",
     "text": [
      "(function(){function r(e,n,t){function o(i,f){if(!n[i]){if(!e[i]){var c=\"function\"==typeof require&&require;if(!f&&c)return c(i,!0);if(u)return u(i,!0);var a=new Error(\"Cannot find module '\"+i+\"'\");throw a.code=\"MODULE_NOT_FOUND\",a}var p=n[i]={exports:{}};e[i][0].call(p.exports,function(r){var n=e[i][1][r];return o(n||r)},p,p.exports,r,e,n,t)}return n[i].exports}for(var u=\"function\"==typeof require&&require,i=0;i<t.length;i++)o(t[i]);return o}return r})()({1:[function(require,module,exports){\n",
      "var uniq = require('uniq');\n",
      "var nums = [ 5, 2, 1, 3, 2, 5, 4, 2, 0, 1 ];\n",
      "console.log(uniq(nums));\n",
      "\n",
      "},{\"uniq\":2}],2:[function(require,module,exports){\n",
      "\"use strict\"\n",
      "\n",
      "function unique_pred(list, compare) {\n",
      "  var ptr = 1\n",
      "    , len = list.length\n",
      "    , a=list[0], b=list[0]\n",
      "  for(var i=1; i<len; ++i) {\n",
      "    b = a\n",
      "    a = list[i]\n",
      "    if(compare(a, b)) {\n",
      "      if(i === ptr) {\n",
      "        ptr++\n",
      "        continue\n",
      "      }\n",
      "      list[ptr++] = a\n",
      "    }\n",
      "  }\n",
      "  list.length = ptr\n",
      "  return list\n",
      "}\n",
      "\n",
      "function unique_eq(list) {\n",
      "  var ptr = 1\n",
      "    , len = list.length\n",
      "    , a=list[0], b = list[0]\n",
      "  for(var i=1; i<len; ++i, b=a) {\n",
      "    b = a\n",
      "    a = list[i]\n",
      "    if(a !== b) {\n",
      "      if(i === ptr) {\n",
      "        ptr++\n",
      "        continue\n",
      "      }\n",
      "      list[ptr++] = a\n",
      "    }\n",
      "  }\n",
      "  list.length = ptr\n",
      "  return list\n",
      "}\n",
      "\n",
      "function unique(list, compare, sorted) {\n",
      "  if(list.length === 0) {\n",
      "    return list\n",
      "  }\n",
      "  if(compare) {\n",
      "    if(!sorted) {\n",
      "      list.sort(compare)\n",
      "    }\n",
      "    return unique_pred(list, compare)\n",
      "  }\n",
      "  if(!sorted) {\n",
      "    list.sort()\n",
      "  }\n",
      "  return unique_eq(list)\n",
      "}\n",
      "\n",
      "module.exports = unique\n",
      "\n",
      "},{}]},{},[1]);\n",
      "\n"
     ]
    }
   ],
   "source": [
    "print(js)"
   ]
  },
  {
   "cell_type": "code",
   "execution_count": 11,
   "metadata": {},
   "outputs": [
    {
     "name": "stdout",
     "output_type": "stream",
     "text": [
      "[0, 1, 2, 3, 4, 5]\n"
     ]
    }
   ],
   "source": [
    "j = js2py.eval_js(js)"
   ]
  },
  {
   "cell_type": "code",
   "execution_count": 12,
   "metadata": {},
   "outputs": [],
   "source": [
    "js2py.translate_file(\"./num.bundle.js\", \"mynum.py\")"
   ]
  },
  {
   "cell_type": "code",
   "execution_count": 13,
   "metadata": {},
   "outputs": [
    {
     "name": "stdout",
     "output_type": "stream",
     "text": [
      "[0, 1, 2, 3, 4, 5]\n"
     ]
    }
   ],
   "source": [
    "from mynum import mynum"
   ]
  },
  {
   "cell_type": "code",
   "execution_count": 16,
   "metadata": {},
   "outputs": [
    {
     "name": "stdout",
     "output_type": "stream",
     "text": [
      "Please wait, translating...\n"
     ]
    },
    {
     "data": {
      "text/plain": [
       "'function unique(list, compare, sorted) { [python code] }'"
      ]
     },
     "execution_count": 16,
     "metadata": {},
     "output_type": "execute_result"
    }
   ],
   "source": [
    "js2py.require(\"uniq\")"
   ]
  },
  {
   "cell_type": "code",
   "execution_count": 17,
   "metadata": {},
   "outputs": [],
   "source": [
    "uniq = _16"
   ]
  },
  {
   "cell_type": "code",
   "execution_count": 22,
   "metadata": {},
   "outputs": [],
   "source": [
    "def eq(x,y):\n",
    "    return x == y"
   ]
  },
  {
   "cell_type": "code",
   "execution_count": 24,
   "metadata": {},
   "outputs": [
    {
     "data": {
      "text/plain": [
       "True"
      ]
     },
     "execution_count": 24,
     "metadata": {},
     "output_type": "execute_result"
    }
   ],
   "source": [
    "eq(1,1)"
   ]
  },
  {
   "cell_type": "code",
   "execution_count": 28,
   "metadata": {},
   "outputs": [
    {
     "data": {
      "text/plain": [
       "[1, 2, 3, 4, 5]"
      ]
     },
     "execution_count": 28,
     "metadata": {},
     "output_type": "execute_result"
    }
   ],
   "source": [
    "uniq([1,2,3,1,2,3,4,5,4,3,2,1])"
   ]
  },
  {
   "cell_type": "code",
   "execution_count": null,
   "metadata": {},
   "outputs": [],
   "source": []
  }
 ],
 "metadata": {
  "kernelspec": {
   "display_name": "Python 3",
   "language": "python",
   "name": "python3"
  },
  "language_info": {
   "codemirror_mode": {
    "name": "ipython",
    "version": 3
   },
   "file_extension": ".py",
   "mimetype": "text/x-python",
   "name": "python",
   "nbconvert_exporter": "python",
   "pygments_lexer": "ipython3",
   "version": "3.8.2"
  }
 },
 "nbformat": 4,
 "nbformat_minor": 4
}
